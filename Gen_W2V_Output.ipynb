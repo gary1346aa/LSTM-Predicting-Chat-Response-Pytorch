{
 "cells": [
  {
   "cell_type": "code",
   "execution_count": 4,
   "metadata": {},
   "outputs": [],
   "source": [
    "import pandas as pd\n",
    "import numpy as np\n",
    "import operator\n",
    "import random\n",
    "import scipy as sp\n",
    "from sklearn.feature_extraction.text import CountVectorizer\n",
    "from sklearn.feature_extraction.text import TfidfVectorizer\n",
    "from sklearn.feature_extraction.text import HashingVectorizer\n",
    "from sklearn.externals import joblib\n",
    "from gensim.models import word2vec\n",
    "from numpy import linalg as LA"
   ]
  },
  {
   "cell_type": "code",
   "execution_count": 5,
   "metadata": {
    "collapsed": true
   },
   "outputs": [],
   "source": [
    "cut_programs = np.load('cut_Programs.npy')\n",
    "cut_questions = np.load('cut_Questions.npy')\n",
    "voc_dict = np.load('voc_dict.npy')\n",
    "tfidf = joblib.load('tfidf.pkl')\n",
    "count = joblib.load('BoW.pkl')\n",
    "W2V = word2vec.Word2Vec.load('W2V')"
   ]
  },
  {
   "cell_type": "code",
   "execution_count": 6,
   "metadata": {},
   "outputs": [
    {
     "data": {
      "text/plain": [
       "(256,)"
      ]
     },
     "execution_count": 6,
     "metadata": {},
     "output_type": "execute_result"
    }
   ],
   "source": [
    "W2V['早餐'].shape"
   ]
  },
  {
   "cell_type": "code",
   "execution_count": 23,
   "metadata": {},
   "outputs": [
    {
     "name": "stdout",
     "output_type": "stream",
     "text": [
      "7763\n",
      "6.83201158284\n",
      "ywe\n",
      "15945\n",
      "[['你現', '在', '在', '選什麼魚'], []]\n",
      "[list(['這樣', '工程', '感覺', '很', '浩大'])\n",
      " list(['我', '的', '專長', '是', '平面', '設計']) list(['我', '在', '選狗', '母魚'])\n",
      " list(['用來', '記事', '的', '便利', '貼']) list(['不是', '以電腦', '繪圖', '做成', '的'])]\n"
     ]
    }
   ],
   "source": [
    "idf = tfidf.idf_\n",
    "voc = tfidf.vocabulary_\n",
    "a = voc['星星']\n",
    "print(a)\n",
    "print(idf[voc['哪裡']])\n",
    "if '哪裡' in voc:\n",
    "    print('ywe')\n",
    "print(len(voc))\n",
    "print(cut_questions[21][0])\n",
    "print(cut_questions[21][1:6])"
   ]
  },
  {
   "cell_type": "code",
   "execution_count": 29,
   "metadata": {},
   "outputs": [
    {
     "name": "stderr",
     "output_type": "stream",
     "text": [
      "C:\\Users\\gary1345aa\\Anaconda3\\lib\\site-packages\\ipykernel_launcher.py:32: RuntimeWarning: invalid value encountered in double_scalars\n"
     ]
    },
    {
     "name": "stdout",
     "output_type": "stream",
     "text": [
      "Answer set Completed\n"
     ]
    }
   ],
   "source": [
    "idf = tfidf.idf_\n",
    "voc = tfidf.vocabulary_\n",
    "\n",
    "a = np.zeros([500,1])\n",
    "\n",
    "for qset in range(len(cut_questions)):\n",
    "    \n",
    "    tmp_Q = np.zeros([256,])\n",
    "    tmp_A = np.zeros([256,])\n",
    "    max_index = 1\n",
    "    max_value = 0\n",
    "\n",
    "    for QA in range(len(cut_questions[qset])):\n",
    "\n",
    "        if QA == 0:\n",
    "            for line in cut_questions[qset][QA]:\n",
    "                for word in line:\n",
    "                    if word in voc_dict:\n",
    "                        if word in voc:\n",
    "                            tmp_Q += W2V[word]/idf[voc[word]]\n",
    "                        else:\n",
    "                            tmp_Q += W2V[word]\n",
    "        else:\n",
    "            tmp_A = np.zeros([256,])\n",
    "            for word in cut_questions[qset][QA]:\n",
    "                if word in voc_dict:\n",
    "                    if word in voc:\n",
    "                        tmp_A += W2V[word]/idf[voc[word]]\n",
    "                    else:\n",
    "                        tmp_A += W2V[word]\n",
    "                        \n",
    "            cs = np.dot(tmp_Q,tmp_A)/(LA.norm(tmp_Q,2)*LA.norm(tmp_A,2))\n",
    "            if  cs > max_value:\n",
    "                max_index = QA\n",
    "                max_value = cs\n",
    "                \n",
    "    a[qset] = max_index - 1\n",
    "    \n",
    "print('Answer set Completed')"
   ]
  },
  {
   "cell_type": "code",
   "execution_count": 31,
   "metadata": {},
   "outputs": [
    {
     "name": "stdout",
     "output_type": "stream",
     "text": [
      "Output CSV Completed\n"
     ]
    }
   ],
   "source": [
    "df = pd.DataFrame(a)\n",
    "df.columns = ['Answer']\n",
    "df.to_csv(\"output.csv\",)\n",
    "print('Output CSV Completed')"
   ]
  },
  {
   "cell_type": "code",
   "execution_count": null,
   "metadata": {
    "collapsed": true
   },
   "outputs": [],
   "source": []
  }
 ],
 "metadata": {
  "kernelspec": {
   "display_name": "Python 3",
   "language": "python",
   "name": "python3"
  },
  "language_info": {
   "codemirror_mode": {
    "name": "ipython",
    "version": 3
   },
   "file_extension": ".py",
   "mimetype": "text/x-python",
   "name": "python",
   "nbconvert_exporter": "python",
   "pygments_lexer": "ipython3",
   "version": "3.6.2"
  }
 },
 "nbformat": 4,
 "nbformat_minor": 2
}
