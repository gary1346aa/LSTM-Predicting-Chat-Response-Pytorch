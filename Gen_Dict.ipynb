{
 "cells": [
  {
   "cell_type": "code",
   "execution_count": 2,
   "metadata": {},
   "outputs": [],
   "source": [
    "from sklearn.pipeline import Pipeline\n",
    "from sklearn.model_selection import train_test_split\n",
    "from sklearn.model_selection import cross_val_score\n",
    "from sklearn.model_selection import KFold\n",
    "from sklearn.model_selection import GridSearchCV\n",
    "from sklearn.preprocessing import PolynomialFeatures\n",
    "from sklearn.preprocessing import StandardScaler\n",
    "from sklearn.linear_model import LinearRegression\n",
    "from sklearn.linear_model import LogisticRegression\n",
    "from sklearn.neighbors import KNeighborsClassifier\n",
    "from sklearn.tree import DecisionTreeClassifier\n",
    "from sklearn.ensemble import VotingClassifier\n",
    "from sklearn.ensemble import BaggingClassifier\n",
    "from sklearn.ensemble import AdaBoostClassifier\n",
    "from sklearn.datasets import make_moons\n",
    "from sklearn.datasets import load_iris\n",
    "from sklearn.metrics import mean_squared_error\n",
    "from sklearn.metrics import roc_curve\n",
    "from sklearn.metrics import auc\n",
    "from sklearn.metrics import accuracy_score\n",
    "from sklearn.externals import joblib\n",
    "from sklearn import datasets\n",
    "from gensim.models import word2vec\n",
    "import matplotlib.pyplot as plt\n",
    "from IPython.display import Image\n",
    "from IPython.display import display\n",
    "import pandas as pd\n",
    "import numpy as np\n",
    "import csv\n",
    "import random\n",
    "%matplotlib inline\n",
    "\n",
    "cut_programs = np.load('cut_Programs.npy')\n",
    "cut_questions = np.load('cut_Questions.npy')\n",
    "word_dict = np.load('word_dict.npy')"
   ]
  },
  {
   "cell_type": "code",
   "execution_count": 6,
   "metadata": {},
   "outputs": [
    {
     "name": "stdout",
     "output_type": "stream",
     "text": [
      "done\n"
     ]
    }
   ],
   "source": [
    "word_dict = dict()\n",
    "\n",
    "def add_word_dict(w):\n",
    "    if not w in word_dict:\n",
    "        word_dict[w] = 1\n",
    "    else:\n",
    "        word_dict[w] += 1\n",
    "        \n",
    "for program in cut_programs:\n",
    "    for lines in program:\n",
    "        for line in lines:\n",
    "            for w in line:\n",
    "                add_word_dict(w)\n",
    "                \n",
    "for question in cut_questions:\n",
    "    lines = question[0]\n",
    "    for line in lines:\n",
    "        for w in line:\n",
    "            add_word_dict(w)\n",
    "    \n",
    "    for i in range(1, 7):\n",
    "        line = question[i]\n",
    "        for w in line:\n",
    "            add_word_dict(w)\n",
    "            \n",
    "import operator\n",
    "\n",
    "word_dict = sorted(word_dict.items(), key=operator.itemgetter(1), reverse=True)\n",
    "np.save('word_dict.npy', word_dict)\n",
    "\n",
    "print('done')"
   ]
  },
  {
   "cell_type": "code",
   "execution_count": 3,
   "metadata": {},
   "outputs": [
    {
     "name": "stdout",
     "output_type": "stream",
     "text": [
      "[['的' '630111']\n",
      " ['我' '293626']\n",
      " [' ' '280384']\n",
      " ['是' '275650']\n",
      " ['你' '223039']\n",
      " [',' '200569']\n",
      " ['了' '170180']\n",
      " ['就' '140446']\n",
      " ['我們' '126546']\n",
      " ['有' '119918']\n",
      " ['不' '118274']\n",
      " ['在' '117625']\n",
      " ['對' '111706']\n",
      " ['啊' '107267']\n",
      " ['...' '107010']\n",
      " ['要' '97032']\n",
      " ['好' '91539']\n",
      " ['這個' '90987']\n",
      " ['都' '90942']\n",
      " ['很' '89364']\n",
      " ['他' '81619']\n",
      " ['也' '77203']\n",
      " ['就是' '75579']\n",
      " ['說' '74318']\n",
      " ['來' '68811']\n",
      " ['會' '67905']\n",
      " ['那' '66873']\n",
      " ['喔' '61530']\n",
      " ['可以' '60277']\n",
      " ['跟' '60055']]\n"
     ]
    }
   ],
   "source": [
    "print(word_dict[:30])"
   ]
  },
  {
   "cell_type": "code",
   "execution_count": 4,
   "metadata": {},
   "outputs": [
    {
     "name": "stdout",
     "output_type": "stream",
     "text": [
      "Done\n"
     ]
    }
   ],
   "source": [
    "VOC_SIZE =  20000\n",
    "VOC_START = 30\n",
    "\n",
    "voc_dict = word_dict[VOC_START:VOC_START+VOC_SIZE]\n",
    "np.save('voc_dict.npy', voc_dict)\n",
    "print('Done')"
   ]
  },
  {
   "cell_type": "code",
   "execution_count": 5,
   "metadata": {},
   "outputs": [
    {
     "name": "stdout",
     "output_type": "stream",
     "text": [
      "[['三四月' '25']\n",
      " ['亮光' '25']\n",
      " ['這瓶' '25']\n",
      " ['亂用' '25']\n",
      " ['拿著' '25']\n",
      " ['好多種' '25']\n",
      " ['中來' '25']\n",
      " ['還不賴' '25']\n",
      " ['七十五' '25']\n",
      " ['輕便' '25']\n",
      " ['橫的' '25']\n",
      " ['簡化' '25']\n",
      " ['健壯' '25']\n",
      " ['想養' '25']\n",
      " ['筆畫' '25']\n",
      " ['進進出出' '25']\n",
      " ['面牆' '25']\n",
      " ['匠師' '25']\n",
      " ['好巧' '25']\n",
      " ['拉高' '25']\n",
      " ['坦克車' '25']\n",
      " ['輕而易舉' '25']\n",
      " ['摔破' '25']\n",
      " ['月娘' '25']\n",
      " ['誰贏' '25']\n",
      " ['一千集' '25']\n",
      " ['這四年' '25']\n",
      " ['二十八' '25']\n",
      " ['同樂會' '25']]\n"
     ]
    }
   ],
   "source": [
    "print(voc_dict[-30:-1])"
   ]
  },
  {
   "cell_type": "code",
   "execution_count": null,
   "metadata": {
    "collapsed": true
   },
   "outputs": [],
   "source": []
  }
 ],
 "metadata": {
  "kernelspec": {
   "display_name": "Python 3",
   "language": "python",
   "name": "python3"
  },
  "language_info": {
   "codemirror_mode": {
    "name": "ipython",
    "version": 3
   },
   "file_extension": ".py",
   "mimetype": "text/x-python",
   "name": "python",
   "nbconvert_exporter": "python",
   "pygments_lexer": "ipython3",
   "version": "3.6.2"
  }
 },
 "nbformat": 4,
 "nbformat_minor": 2
}
